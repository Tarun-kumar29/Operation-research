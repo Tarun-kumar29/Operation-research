{
  "nbformat": 4,
  "nbformat_minor": 0,
  "metadata": {
    "colab": {
      "name": "1Sept_Experiment4_Tarun_R103219031",
      "provenance": [],
      "collapsed_sections": [],
      "authorship_tag": "ABX9TyOBvouuvRGq2+rQs2IE60/H",
      "include_colab_link": true
    },
    "kernelspec": {
      "name": "python3",
      "display_name": "Python 3"
    },
    "language_info": {
      "name": "python"
    }
  },
  "cells": [
    {
      "cell_type": "markdown",
      "metadata": {
        "id": "view-in-github",
        "colab_type": "text"
      },
      "source": [
        "<a href=\"https://colab.research.google.com/github/Tarun-kumar29/Operation-research/blob/main/1Sept_Experiment4_Tarun_R103219031.ipynb\" target=\"_parent\"><img src=\"https://colab.research.google.com/assets/colab-badge.svg\" alt=\"Open In Colab\"/></a>"
      ]
    },
    {
      "cell_type": "markdown",
      "metadata": {
        "id": "-N-6dOsjv9Sa"
      },
      "source": [
        "**OR LAB Experiment 4**\n",
        "\n",
        "Name : Tarun Kumar     Roll no.:R103219031\n",
        "\n",
        "\n",
        "\n",
        "SAP ID : 500078207     CSE(BAO) 5th Sem"
      ]
    },
    {
      "cell_type": "code",
      "metadata": {
        "id": "-8mdQMNZv0EX"
      },
      "source": [
        "import cvxpy as cp"
      ],
      "execution_count": 1,
      "outputs": []
    },
    {
      "cell_type": "markdown",
      "metadata": {
        "id": "C16aEwbiwvBd"
      },
      "source": [
        "**Answer 1:**"
      ]
    },
    {
      "cell_type": "code",
      "metadata": {
        "colab": {
          "base_uri": "https://localhost:8080/"
        },
        "id": "8yrpAGzswrOv",
        "outputId": "ede79a24-4521-40ed-eda9-75b62eeadae2"
      },
      "source": [
        "x1 = cp.Variable(integer = True)\n",
        "x2 = cp.Variable(integer = True)\n",
        "objective = cp.Maximize( 7*x1 + 10*x2 )\n",
        "constraints = [ -1*x1 + 3*x2 <= 6 , 7*x1 + x2 <= 35, x1>=0, x2>=0]\n",
        "prob = cp.Problem(objective,constraints)\n",
        "prob.solve()\n",
        "print(\"x1:\",x1.value)\n",
        "print(\"x2:\",x2.value)\n",
        "print(\"Obj:\",prob.value)"
      ],
      "execution_count": 2,
      "outputs": [
        {
          "output_type": "stream",
          "name": "stdout",
          "text": [
            "x1: 4.0\n",
            "x2: 3.0\n",
            "Obj: 58.0\n"
          ]
        }
      ]
    },
    {
      "cell_type": "markdown",
      "metadata": {
        "id": "wvPo6xgHw6KV"
      },
      "source": [
        "**Answer 2:**"
      ]
    },
    {
      "cell_type": "code",
      "metadata": {
        "colab": {
          "base_uri": "https://localhost:8080/"
        },
        "id": "kWKm4AEQxAgQ",
        "outputId": "a2e73c4a-8d82-4301-cb44-1a933a3281d2"
      },
      "source": [
        "x1 = cp.Variable(integer = True)\n",
        "x2 = cp.Variable(integer = True)\n",
        "objective = cp.Maximize( 5*x1 + 8*x2 )\n",
        "constraints = [ 1*x1 + 1*x2 <= 6 , 5*x1 + 9*x2 <= 45, x1>=0, x2>=0]\n",
        "prob = cp.Problem(objective,constraints)\n",
        "prob.solve()\n",
        "print(\"x1:\",x1.value)\n",
        "print(\"x2:\",x2.value)\n",
        "print(\"Obj:\",prob.value)"
      ],
      "execution_count": 3,
      "outputs": [
        {
          "output_type": "stream",
          "name": "stdout",
          "text": [
            "x1: 0.0\n",
            "x2: 5.0\n",
            "Obj: 40.0\n"
          ]
        }
      ]
    },
    {
      "cell_type": "markdown",
      "metadata": {
        "id": "Ba8WY1WAxE2S"
      },
      "source": [
        "Answer 3:\n",
        "\n",
        "\n",
        "Machine setup 1"
      ]
    },
    {
      "cell_type": "code",
      "metadata": {
        "colab": {
          "base_uri": "https://localhost:8080/"
        },
        "id": "QLv3X6dhxKSC",
        "outputId": "a82c9845-20c6-4340-faa8-be8f7cef4f0b"
      },
      "source": [
        "x1 = cp.Variable(integer = True)\n",
        "x2 = cp.Variable(integer = True)\n",
        "objective = cp.Maximize( 10*x1 + 12*x2 )\n",
        "constraints = [ x1 + x2 <= 35 , x1<=20, x2<=10]\n",
        "prob = cp.Problem(objective,constraints)\n",
        "prob.solve()\n",
        "print(\"x1:\",x1.value)\n",
        "print(\"x2:\",x2.value)\n",
        "print(\"Obj:\",prob.value)"
      ],
      "execution_count": 4,
      "outputs": [
        {
          "output_type": "stream",
          "name": "stdout",
          "text": [
            "x1: 20.0\n",
            "x2: 10.0\n",
            "Obj: 320.0\n"
          ]
        }
      ]
    },
    {
      "cell_type": "markdown",
      "metadata": {
        "id": "XWKw-17_xQv_"
      },
      "source": [
        "Machine setup 2"
      ]
    },
    {
      "cell_type": "code",
      "metadata": {
        "colab": {
          "base_uri": "https://localhost:8080/"
        },
        "id": "jRYfmqpXxNWg",
        "outputId": "4b78a523-1947-4cfe-a0ae-dbd5fa1e33d8"
      },
      "source": [
        "x1 = cp.Variable(integer = True)\n",
        "x2 = cp.Variable(integer = True)\n",
        "objective = cp.Maximize( 10*x1 + 12*x2 )\n",
        "constraints = [ x1 + x2 <= 35 , x1<=12, x2<=25]\n",
        "prob = cp.Problem(objective,constraints)\n",
        "prob.solve()\n",
        "print(\"x1:\",x1.value)\n",
        "print(\"x2:\",x2.value)\n",
        "print(\"Obj:\",prob.value)"
      ],
      "execution_count": 5,
      "outputs": [
        {
          "output_type": "stream",
          "name": "stdout",
          "text": [
            "x1: 10.0\n",
            "x2: 25.0\n",
            "Obj: 400.0\n"
          ]
        }
      ]
    }
  ]
}