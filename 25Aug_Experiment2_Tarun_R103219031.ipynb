{
  "nbformat": 4,
  "nbformat_minor": 0,
  "metadata": {
    "colab": {
      "name": "25Aug_Experiment2_Tarun_R103219031.ipynb",
      "provenance": [],
      "collapsed_sections": [],
      "authorship_tag": "ABX9TyPekjmVzYkVydd7PwE09ot5",
      "include_colab_link": true
    },
    "kernelspec": {
      "name": "python3",
      "display_name": "Python 3"
    },
    "language_info": {
      "name": "python"
    }
  },
  "cells": [
    {
      "cell_type": "markdown",
      "metadata": {
        "id": "view-in-github",
        "colab_type": "text"
      },
      "source": [
        "<a href=\"https://colab.research.google.com/github/Tarun-kumar29/Operation-research/blob/main/25Aug_Experiment2_Tarun_R103219031.ipynb\" target=\"_parent\"><img src=\"https://colab.research.google.com/assets/colab-badge.svg\" alt=\"Open In Colab\"/></a>"
      ]
    },
    {
      "cell_type": "code",
      "metadata": {
        "colab": {
          "base_uri": "https://localhost:8080/"
        },
        "id": "iybdUZFiq4rU",
        "outputId": "7bba23d7-9853-4dfa-a83c-c6dcea4ea8dd"
      },
      "source": [
        "!pip install pulp"
      ],
      "execution_count": null,
      "outputs": [
        {
          "output_type": "stream",
          "text": [
            "Collecting pulp\n",
            "  Downloading PuLP-2.4-py3-none-any.whl (40.6 MB)\n",
            "\u001b[K     |████████████████████████████████| 40.6 MB 33 kB/s \n",
            "\u001b[?25hCollecting amply>=0.1.2\n",
            "  Downloading amply-0.1.4-py3-none-any.whl (16 kB)\n",
            "Requirement already satisfied: docutils>=0.3 in /usr/local/lib/python3.7/dist-packages (from amply>=0.1.2->pulp) (0.17.1)\n",
            "Requirement already satisfied: pyparsing in /usr/local/lib/python3.7/dist-packages (from amply>=0.1.2->pulp) (2.4.7)\n",
            "Installing collected packages: amply, pulp\n",
            "Successfully installed amply-0.1.4 pulp-2.4\n"
          ],
          "name": "stdout"
        }
      ]
    },
    {
      "cell_type": "code",
      "metadata": {
        "id": "Z7MZiivhsUSi"
      },
      "source": [
        "from pulp import *"
      ],
      "execution_count": null,
      "outputs": []
    },
    {
      "cell_type": "markdown",
      "metadata": {
        "id": "uJ9TFZpEscis"
      },
      "source": [
        ""
      ]
    },
    {
      "cell_type": "code",
      "metadata": {
        "colab": {
          "base_uri": "https://localhost:8080/"
        },
        "id": "MetEICD7seTw",
        "outputId": "afe4a940-4fe8-480f-e1ad-14d727d4e9d6"
      },
      "source": [
        "my_lpProblem_02=LpProblem(\"Second LP problem\",LpMinimize)\n"
      ],
      "execution_count": null,
      "outputs": [
        {
          "output_type": "stream",
          "text": [
            "/usr/local/lib/python3.7/dist-packages/pulp/pulp.py:1199: UserWarning: Spaces are not permitted in the name. Converted to '_'\n",
            "  warnings.warn(\"Spaces are not permitted in the name. Converted to '_'\")\n"
          ],
          "name": "stderr"
        }
      ]
    },
    {
      "cell_type": "code",
      "metadata": {
        "id": "-yhCyrTxs7q-"
      },
      "source": [
        "X1=LpVariable(\"X1\", lowBound=0, cat=\"Continuous\")\n",
        "X2=LpVariable(\"X2\", lowBound=0, cat=\"Continuous\")\n",
        "X3=LpVariable(\"X3\", lowBound=0, cat=\"Continuous\")"
      ],
      "execution_count": null,
      "outputs": []
    },
    {
      "cell_type": "code",
      "metadata": {
        "colab": {
          "base_uri": "https://localhost:8080/"
        },
        "id": "rSI-xik4tj9F",
        "outputId": "f0e0a1c2-c1cf-4e24-e30e-faf2074ec8f5"
      },
      "source": [
        "my_lpProblem_02 += 3*X1-4*X2+3*X3 , \"z\"\n",
        "my_lpProblem_02 += 5*X1+6*X2+2*X3 <=5\n",
        "my_lpProblem_02 += -1*X1+3*X2+5*X3 <=8\n",
        "my_lpProblem_02 += 2*X1+5*X2-4*X3 <=4\n",
        "my_lpProblem_02 += X1 >=0\n",
        "my_lpProblem_02 += X2 >=0\n",
        "my_lpProblem_02 += X3 >=0"
      ],
      "execution_count": null,
      "outputs": [
        {
          "output_type": "stream",
          "text": [
            "/usr/local/lib/python3.7/dist-packages/pulp/pulp.py:1537: UserWarning: Overwriting previously set objective.\n",
            "  warnings.warn(\"Overwriting previously set objective.\")\n"
          ],
          "name": "stderr"
        }
      ]
    },
    {
      "cell_type": "code",
      "metadata": {
        "colab": {
          "base_uri": "https://localhost:8080/"
        },
        "id": "ZuejVqJTusV5",
        "outputId": "66c678b1-550b-49d0-b960-236390b81c3a"
      },
      "source": [
        "my_lpProblem_02"
      ],
      "execution_count": null,
      "outputs": [
        {
          "output_type": "execute_result",
          "data": {
            "text/plain": [
              "Second_LP_problem:\n",
              "MINIMIZE\n",
              "3*X1 + -4*X2 + 3*X3 + 0\n",
              "SUBJECT TO\n",
              "_C1: 5 X1 + 6 X2 + 2 X3 <= 5\n",
              "\n",
              "_C2: - X1 + 3 X2 + 5 X3 <= 8\n",
              "\n",
              "_C3: 2 X1 + 5 X2 - 4 X3 <= 4\n",
              "\n",
              "_C4: X1 >= 0\n",
              "\n",
              "_C5: X1 >= 0\n",
              "\n",
              "_C6: 5 X1 + 6 X2 + 2 X3 <= 5\n",
              "\n",
              "_C7: - X1 + 3 X2 + 5 X3 <= 8\n",
              "\n",
              "_C8: 2 X1 + 5 X2 - 4 X3 <= 4\n",
              "\n",
              "_C9: X1 >= 0\n",
              "\n",
              "_C10: X2 >= 0\n",
              "\n",
              "_C11: X3 >= 0\n",
              "\n",
              "VARIABLES\n",
              "X1 Continuous\n",
              "X2 Continuous\n",
              "X3 Continuous"
            ]
          },
          "metadata": {
            "tags": []
          },
          "execution_count": 7
        }
      ]
    },
    {
      "cell_type": "code",
      "metadata": {
        "colab": {
          "base_uri": "https://localhost:8080/",
          "height": 35
        },
        "id": "4lUufus8y0cj",
        "outputId": "745eff3f-f31d-4e5d-cb8d-ae40645f2e60"
      },
      "source": [
        "my_lpProblem_02.solve()\n",
        "LpStatus[my_lpProblem_02.status]\n"
      ],
      "execution_count": null,
      "outputs": [
        {
          "output_type": "execute_result",
          "data": {
            "application/vnd.google.colaboratory.intrinsic+json": {
              "type": "string"
            },
            "text/plain": [
              "'Optimal'"
            ]
          },
          "metadata": {
            "tags": []
          },
          "execution_count": 9
        }
      ]
    },
    {
      "cell_type": "code",
      "metadata": {
        "colab": {
          "base_uri": "https://localhost:8080/"
        },
        "id": "mBcej5JVzQTL",
        "outputId": "8dd790eb-f149-466f-9c64-02ff23f2831f"
      },
      "source": [
        "for variable in my_lpProblem_02.variables():\n",
        "  print(\"{}={}\".format(variable.name,variable.varValue))\n"
      ],
      "execution_count": null,
      "outputs": [
        {
          "output_type": "stream",
          "text": [
            "X1=0.0\n",
            "X2=0.82352941\n",
            "X3=0.029411765\n"
          ],
          "name": "stdout"
        }
      ]
    },
    {
      "cell_type": "code",
      "metadata": {
        "colab": {
          "base_uri": "https://localhost:8080/"
        },
        "id": "gPzE_mKGzyGj",
        "outputId": "acf74218-e908-424e-8990-138960ac2995"
      },
      "source": [
        "value(my_lpProblem_02.objective)"
      ],
      "execution_count": null,
      "outputs": [
        {
          "output_type": "execute_result",
          "data": {
            "text/plain": [
              "-3.205882345"
            ]
          },
          "metadata": {
            "tags": []
          },
          "execution_count": 11
        }
      ]
    }
  ]
}