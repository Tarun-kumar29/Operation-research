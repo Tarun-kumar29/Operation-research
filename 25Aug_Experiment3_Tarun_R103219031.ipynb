{
  "nbformat": 4,
  "nbformat_minor": 0,
  "metadata": {
    "colab": {
      "name": "25Aug_Experiment3_Tarun_R103219031.ipynb",
      "provenance": [],
      "collapsed_sections": [],
      "authorship_tag": "ABX9TyNyjN9NIz0Q/NnJuvkily3y",
      "include_colab_link": true
    },
    "kernelspec": {
      "name": "python3",
      "display_name": "Python 3"
    },
    "language_info": {
      "name": "python"
    }
  },
  "cells": [
    {
      "cell_type": "markdown",
      "metadata": {
        "id": "view-in-github",
        "colab_type": "text"
      },
      "source": [
        "<a href=\"https://colab.research.google.com/github/Tarun-kumar29/Operation-research/blob/main/25Aug_Experiment3_Tarun_R103219031.ipynb\" target=\"_parent\"><img src=\"https://colab.research.google.com/assets/colab-badge.svg\" alt=\"Open In Colab\"/></a>"
      ]
    },
    {
      "cell_type": "code",
      "metadata": {
        "colab": {
          "base_uri": "https://localhost:8080/"
        },
        "id": "ct_US1IZ0NON",
        "outputId": "0d7fe978-44e2-4b55-ad1a-e52a51199bae"
      },
      "source": [
        "!pip install pulp"
      ],
      "execution_count": null,
      "outputs": [
        {
          "output_type": "stream",
          "text": [
            "Collecting pulp\n",
            "  Downloading PuLP-2.4-py3-none-any.whl (40.6 MB)\n",
            "\u001b[K     |████████████████████████████████| 40.6 MB 33 kB/s \n",
            "\u001b[?25hCollecting amply>=0.1.2\n",
            "  Downloading amply-0.1.4-py3-none-any.whl (16 kB)\n",
            "Requirement already satisfied: pyparsing in /usr/local/lib/python3.7/dist-packages (from amply>=0.1.2->pulp) (2.4.7)\n",
            "Requirement already satisfied: docutils>=0.3 in /usr/local/lib/python3.7/dist-packages (from amply>=0.1.2->pulp) (0.17.1)\n",
            "Installing collected packages: amply, pulp\n",
            "Successfully installed amply-0.1.4 pulp-2.4\n"
          ],
          "name": "stdout"
        }
      ]
    },
    {
      "cell_type": "code",
      "metadata": {
        "id": "UGV0cJhN0Tgj"
      },
      "source": [
        "from pulp import *\n"
      ],
      "execution_count": null,
      "outputs": []
    },
    {
      "cell_type": "code",
      "metadata": {
        "colab": {
          "base_uri": "https://localhost:8080/"
        },
        "id": "NXgxYm3v0Yts",
        "outputId": "5ee62260-436d-45b9-90c1-9af4e3f39a77"
      },
      "source": [
        "my_lpProblem_03=LpProblem(\"Third LP problem\",LpMinimize)\n"
      ],
      "execution_count": null,
      "outputs": [
        {
          "output_type": "stream",
          "text": [
            "/usr/local/lib/python3.7/dist-packages/pulp/pulp.py:1199: UserWarning: Spaces are not permitted in the name. Converted to '_'\n",
            "  warnings.warn(\"Spaces are not permitted in the name. Converted to '_'\")\n"
          ],
          "name": "stderr"
        }
      ]
    },
    {
      "cell_type": "code",
      "metadata": {
        "id": "ruAltoie0olf"
      },
      "source": [
        "X1=LpVariable(\"X1\", lowBound=0, cat=\"Continuous\")\n",
        "X2=LpVariable(\"X2\", lowBound=0, cat=\"Continuous\")\n",
        "X3=LpVariable(\"X3\", lowBound=0, cat=\"Continuous\")\n",
        "X4=LpVariable(\"X4\", lowBound=0, cat=\"Continuous\")"
      ],
      "execution_count": null,
      "outputs": []
    },
    {
      "cell_type": "code",
      "metadata": {
        "id": "YG9O4AyI0zUr"
      },
      "source": [
        "my_lpProblem_03 += 2*X1+4*X2+4*X3-3*X4 , \"z\"\n",
        "my_lpProblem_03 += X1+X2+X3 ==4\n",
        "my_lpProblem_03 += X1+4*X2+X4 ==8\n",
        "my_lpProblem_03 += 3*X1+4*X2+2*X3 ==8\n",
        "my_lpProblem_03 += X1 >=0\n",
        "my_lpProblem_03 += X2 >=0\n",
        "my_lpProblem_03 += X3 >=0\n",
        "my_lpProblem_03 += X4 >=0"
      ],
      "execution_count": null,
      "outputs": []
    },
    {
      "cell_type": "code",
      "metadata": {
        "colab": {
          "base_uri": "https://localhost:8080/"
        },
        "id": "c65190xQ1lG7",
        "outputId": "7141b96c-e616-4b00-f059-72f9ee6da43b"
      },
      "source": [
        "my_lpProblem_03"
      ],
      "execution_count": null,
      "outputs": [
        {
          "output_type": "execute_result",
          "data": {
            "text/plain": [
              "Third_LP_problem:\n",
              "MINIMIZE\n",
              "2*X1 + 4*X2 + 4*X3 + -3*X4 + 0\n",
              "SUBJECT TO\n",
              "_C1: X1 + X2 + X3 = 4\n",
              "\n",
              "_C2: X1 + 4 X2 + X4 = 8\n",
              "\n",
              "_C3: 3 X1 + 4 X2 + 2 X3 = 8\n",
              "\n",
              "_C4: X1 >= 0\n",
              "\n",
              "_C5: X2 >= 0\n",
              "\n",
              "_C6: X3 >= 0\n",
              "\n",
              "_C7: X4 >= 0\n",
              "\n",
              "VARIABLES\n",
              "X1 Continuous\n",
              "X2 Continuous\n",
              "X3 Continuous\n",
              "X4 Continuous"
            ]
          },
          "metadata": {
            "tags": []
          },
          "execution_count": 7
        }
      ]
    },
    {
      "cell_type": "code",
      "metadata": {
        "colab": {
          "base_uri": "https://localhost:8080/",
          "height": 35
        },
        "id": "lJ3iOtKs1oey",
        "outputId": "90dc6620-236a-48ba-cb5b-8ad5ce06bccd"
      },
      "source": [
        "my_lpProblem_03.solve()\n",
        "LpStatus[my_lpProblem_03.status]"
      ],
      "execution_count": null,
      "outputs": [
        {
          "output_type": "execute_result",
          "data": {
            "application/vnd.google.colaboratory.intrinsic+json": {
              "type": "string"
            },
            "text/plain": [
              "'Optimal'"
            ]
          },
          "metadata": {
            "tags": []
          },
          "execution_count": 8
        }
      ]
    },
    {
      "cell_type": "code",
      "metadata": {
        "colab": {
          "base_uri": "https://localhost:8080/"
        },
        "id": "rPJmbd2D1yT-",
        "outputId": "721b8545-a6e0-426b-b03e-9d7f6fe2e644"
      },
      "source": [
        "for variable in my_lpProblem_03.variables():\n",
        "  print(\"{}={}\".format(variable.name,variable.varValue))\n"
      ],
      "execution_count": null,
      "outputs": [
        {
          "output_type": "stream",
          "text": [
            "X1=0.0\n",
            "X2=0.0\n",
            "X3=4.0\n",
            "X4=8.0\n"
          ],
          "name": "stdout"
        }
      ]
    },
    {
      "cell_type": "code",
      "metadata": {
        "colab": {
          "base_uri": "https://localhost:8080/"
        },
        "id": "cXOlvMdv15-P",
        "outputId": "04333881-3539-4f8d-c2a2-645ebe7f5465"
      },
      "source": [
        "value(my_lpProblem_03.objective)"
      ],
      "execution_count": null,
      "outputs": [
        {
          "output_type": "execute_result",
          "data": {
            "text/plain": [
              "-8.0"
            ]
          },
          "metadata": {
            "tags": []
          },
          "execution_count": 10
        }
      ]
    }
  ]
}