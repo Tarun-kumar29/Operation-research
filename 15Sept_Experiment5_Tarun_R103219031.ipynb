{
  "nbformat": 4,
  "nbformat_minor": 0,
  "metadata": {
    "colab": {
      "name": "15Sept_Experiment5_Tarun_R103219031",
      "provenance": [],
      "collapsed_sections": [],
      "authorship_tag": "ABX9TyPYPd2pgvR4IbKNRAfieZFx",
      "include_colab_link": true
    },
    "kernelspec": {
      "name": "python3",
      "display_name": "Python 3"
    },
    "language_info": {
      "name": "python"
    }
  },
  "cells": [
    {
      "cell_type": "markdown",
      "metadata": {
        "id": "view-in-github",
        "colab_type": "text"
      },
      "source": [
        "<a href=\"https://colab.research.google.com/github/Tarun-kumar29/Operation-research/blob/main/15Sept_Experiment5_Tarun_R103219031.ipynb\" target=\"_parent\"><img src=\"https://colab.research.google.com/assets/colab-badge.svg\" alt=\"Open In Colab\"/></a>"
      ]
    },
    {
      "cell_type": "markdown",
      "metadata": {
        "id": "jKWPVFBexs86"
      },
      "source": [
        "**OR LAB Experiment 5**\n",
        "\n",
        "\n",
        "Name : Tarun Kumar Roll no.:R103219031\n",
        "\n",
        "SAP ID : 500078207 CSE(BAO) 5th Sem"
      ]
    },
    {
      "cell_type": "code",
      "metadata": {
        "id": "rd1nbshdxiaM"
      },
      "source": [
        "from scipy.optimize import linprog"
      ],
      "execution_count": 1,
      "outputs": []
    },
    {
      "cell_type": "markdown",
      "metadata": {
        "id": "UevfHacRyeHE"
      },
      "source": [
        "**Ques. 1** -> Maximize Z = 3X1 + 2X2 + 3X3 \\ Subject to\\ 2X1 + X2 + X3 = 2\\ X1 + 3X2 + X3 = 6\\ 3X1 + 4X2 + 2X3 = 8\\ X1, X2, X3 >= 0"
      ]
    },
    {
      "cell_type": "code",
      "metadata": {
        "colab": {
          "base_uri": "https://localhost:8080/"
        },
        "id": "Tu90zzfxyU2b",
        "outputId": "597b2d9b-f4d8-4776-aee2-d94ae0438d52"
      },
      "source": [
        "c = [-3, -2, -3]\n",
        "A = [[2, 1, 1], [1, 3, 1], [3, 4, 2]]\n",
        "b = [2, 6, 8]\n",
        "x1_bound = (0, None)\n",
        "x2_bound = (0, None)\n",
        "x3_bound = (0, None)\n",
        "res = linprog(c, A_eq = A, b_eq = b, bounds=[x1_bound, x2_bound, x3_bound], method = \"simplex\")\n",
        "print(res)"
      ],
      "execution_count": 2,
      "outputs": [
        {
          "output_type": "stream",
          "name": "stdout",
          "text": [
            "     con: array([0., 0., 0.])\n",
            "     fun: -4.0\n",
            " message: 'Optimization terminated successfully.'\n",
            "     nit: 3\n",
            "   slack: array([], dtype=float64)\n",
            "  status: 0\n",
            " success: True\n",
            "       x: array([0., 2., 0.])\n"
          ]
        },
        {
          "output_type": "stream",
          "name": "stderr",
          "text": [
            "/usr/local/lib/python3.7/dist-packages/ipykernel_launcher.py:7: OptimizeWarning: A_eq does not appear to be of full row rank. To improve performance, check the problem formulation for redundant equality constraints.\n",
            "  import sys\n"
          ]
        }
      ]
    },
    {
      "cell_type": "markdown",
      "metadata": {
        "id": "AOEZhy98ymiy"
      },
      "source": [
        "**Ques. 2** -> Minimize Z = 3X1 - 4X2 + 3X3\\ Subject to\\ 5X1 + 6X2 + 2X3 <= 5\\ -X1 + 3X2 + 5X3 >= 8\\ 2X1 + 5X2 - 4X3 <= 4\\ X1, X2, X3 >= 0"
      ]
    },
    {
      "cell_type": "code",
      "metadata": {
        "colab": {
          "base_uri": "https://localhost:8080/"
        },
        "id": "NW4MJBzMyW1i",
        "outputId": "3f71834f-66c2-4558-8c2f-648e1ccbb4a3"
      },
      "source": [
        "c = [3, -4, 3]\n",
        "A = [[5, 6, 2], [1, -3, -5], [2, 5, -4]]\n",
        "b = [5, -8, 4]\n",
        "x1_bound = (0, None)\n",
        "x2_bound = (0, None)\n",
        "x3_bound = (0, None)\n",
        "res = linprog(c, A, b, bounds=[x1_bound, x2_bound, x3_bound], method = \"simplex\")\n",
        "print(res)"
      ],
      "execution_count": 3,
      "outputs": [
        {
          "output_type": "stream",
          "name": "stdout",
          "text": [
            "     con: array([], dtype=float64)\n",
            "     fun: 2.624999999999999\n",
            " message: 'Optimization terminated successfully.'\n",
            "     nit: 3\n",
            "   slack: array([ 0.0000000e+00, -8.8817842e-16,  7.6250000e+00])\n",
            "  status: 0\n",
            " success: True\n",
            "       x: array([0.   , 0.375, 1.375])\n"
          ]
        }
      ]
    },
    {
      "cell_type": "markdown",
      "metadata": {
        "id": "1xQGNm2Py2xj"
      },
      "source": [
        "**Ques. 3** -> Maximize Z = 2X1 + 4X2 + 4X3 - 3X4\\ Subject to\\ X1 + X2 + X3 = 4\\ X1 + 4X2 + X4 = 8\\ 3X1 + 4X2 + 2X3 = 8\\ X1, X2, X3, X4 >= 0"
      ]
    },
    {
      "cell_type": "code",
      "metadata": {
        "colab": {
          "base_uri": "https://localhost:8080/"
        },
        "id": "8XtJClzXy4n6",
        "outputId": "f7e8bca9-b62c-4a16-9002-ff57908395e6"
      },
      "source": [
        "\n",
        "c = [-2, -4, -4, 3]\n",
        "A = [[1, 1, 1, 0], [1, 4, 0,1], [3 , 4, 2, 0]]\n",
        "b = [4, 8, 8]\n",
        "x1_bound = (0, None)\n",
        "x2_bound = (0, None)\n",
        "x3_bound = (0, None)\n",
        "x4_bound = (0, None)\n",
        "res = linprog(c, A_eq = A, b_eq= b, bounds=(x1_bound, x2_bound, x3_bound, x4_bound), method = \"simplex\")\n",
        "print(res)\n"
      ],
      "execution_count": 4,
      "outputs": [
        {
          "output_type": "stream",
          "name": "stdout",
          "text": [
            "     con: array([0., 0., 0.])\n",
            "     fun: 8.0\n",
            " message: 'Optimization terminated successfully.'\n",
            "     nit: 3\n",
            "   slack: array([], dtype=float64)\n",
            "  status: 0\n",
            " success: True\n",
            "       x: array([0., 0., 4., 8.])\n"
          ]
        }
      ]
    }
  ]
}